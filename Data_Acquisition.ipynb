{
 "cells": [
  {
   "cell_type": "code",
   "id": "initial_id",
   "metadata": {
    "collapsed": true,
    "ExecuteTime": {
     "end_time": "2024-09-03T23:16:39.679055Z",
     "start_time": "2024-09-03T23:16:39.074103Z"
    }
   },
   "source": [
    "import pyodbc\n",
    "import sqlalchemy as sa\n",
    "import pandas as pd\n",
    "from urllib.parse import quote\n",
    "\n",
    "# Configurando a conexão com o SQL Server\n",
    "server = 'ultraflowdbserver.database.windows.net'\n",
    "database = 'ultraflowdb'\n",
    "username = 'usuario_ultraflow'\n",
    "password = '@database.password123!'\n",
    "driver = '{ODBC Driver 17 for SQL Server}'\n",
    "\n",
    "# Criando a string de conexão com o tempo limite aumentado\n",
    "connection_string = f'DRIVER={driver};SERVER={server};DATABASE={database};UID={username};PWD={password};Timeout=30'\n",
    "\n",
    "# Conectando ao banco de dados\n",
    "try:\n",
    "    conn = pyodbc.connect(connection_string)\n",
    "    print(\"Conexão bem-sucedida!\")\n",
    "\n",
    "    # Criando um cursor e listando tabelas\n",
    "    cursor = conn.cursor()\n",
    "    cursor.execute(\"SELECT table_name FROM information_schema.tables WHERE table_type = 'BASE TABLE' AND table_catalog = ?\", (database,))\n",
    "\n",
    "    # Listando todas as tabelas no banco de dados\n",
    "    tables = cursor.fetchall()\n",
    "    print(\"Tabelas no banco de dados:\")\n",
    "    for table in tables:\n",
    "        print(table.table_name)\n",
    "\n",
    "    # Fechando a conexão\n",
    "    conn.close()\n",
    "\n",
    "except pyodbc.Error as ex:\n",
    "    print(\"Erro ao conectar ao banco de dados:\")\n",
    "    print(ex)"
   ],
   "outputs": [
    {
     "name": "stdout",
     "output_type": "stream",
     "text": [
      "Conexão bem-sucedida!\n",
      "Tabelas no banco de dados:\n",
      "teste\n",
      "dRegionaisDEPARA\n",
      "Address\n",
      "dFornecedores\n",
      "dObras\n",
      "dContasContabeis\n",
      "SalesOrderHeader\n",
      "SalesOrderDetail\n",
      "ProductModelProductDescription\n",
      "ProductDescription\n",
      "dProdutos\n",
      "dCompradores\n",
      "Customer\n",
      "fPedidosCompras\n",
      "dCondPagamento\n",
      "CustomerAddress\n",
      "ProductCategory\n",
      "dCentroCusto\n",
      "dArmazens\n",
      "ProductModel\n",
      "Product\n"
     ]
    }
   ],
   "execution_count": 3
  },
  {
   "metadata": {},
   "cell_type": "markdown",
   "source": "## Data Acquisition ",
   "id": "4b5c2fe0271601e1"
  },
  {
   "metadata": {
    "ExecuteTime": {
     "end_time": "2024-09-04T03:25:26.650287Z",
     "start_time": "2024-09-04T03:25:11.087046Z"
    }
   },
   "cell_type": "code",
   "source": [
    "import pandas as pd\n",
    "import requests\n",
    "\n",
    "# Define a URL do arquivo JSON\n",
    "url = \"https://datalakedigitalhouse.blob.core.windows.net/digital-house/5%20JSON%20-%20ProductCategory.json\"\n",
    "\n",
    "# Faz a requisição para obter os dados\n",
    "response = requests.get(url)\n",
    "\n",
    "# Verifica se a requisição foi bem-sucedida\n",
    "if response.status_code == 200:\n",
    "    # Converte os dados para formato JSON\n",
    "    data = response.json()\n",
    "    \n",
    "    # Carrega os dados JSON em um DataFrame do Pandas\n",
    "    df = pd.DataFrame(data)\n",
    "    \n",
    "    # Exibe as primeiras linhas do DataFrame para verificação\n",
    "    print(df.head())\n",
    "else:\n",
    "    print(f\"Erro ao acessar a URL: {response.status_code}\")\n"
   ],
   "id": "c7e7d2c2d64af3e3",
   "outputs": [
    {
     "name": "stdout",
     "output_type": "stream",
     "text": [
      "   ProductCategoryID  ParentProductCategoryID            Name  \\\n",
      "0                  1                      NaN           Bikes   \n",
      "1                  2                      NaN      Components   \n",
      "2                  3                      NaN        Clothing   \n",
      "3                  4                      NaN     Accessories   \n",
      "4                  5                      1.0  Mountain Bikes   \n",
      "\n",
      "                                rowguid             ModifiedDate  \n",
      "0  CFBDA25C-DF71-47A7-B81B-64EE161AA37C  2002-06-01 00:00:00.000  \n",
      "1  C657828D-D808-4ABA-91A3-AF2CE02300E9  2002-06-01 00:00:00.000  \n",
      "2  10A7C342-CA82-48D4-8A38-46A2EB089B74  2002-06-01 00:00:00.000  \n",
      "3  2BE3BE36-D9A2-4EEE-B593-ED895D97C2A6  2002-06-01 00:00:00.000  \n",
      "4  2D364ADE-264A-433C-B092-4FCBF3804E01  2002-06-01 00:00:00.000  \n"
     ]
    }
   ],
   "execution_count": 1
  },
  {
   "metadata": {},
   "cell_type": "markdown",
   "source": "### Leitura dos Arquivos",
   "id": "13d68661c7c8bc61"
  },
  {
   "metadata": {
    "ExecuteTime": {
     "end_time": "2024-09-04T03:27:13.284241Z",
     "start_time": "2024-09-04T03:27:13.099537Z"
    }
   },
   "cell_type": "code",
   "source": [
    "import pandas as pd\n",
    "\n",
    "# Leitura dos arquivos CSV\n",
    "ecommerce_data = pd.read_csv(\"C:/Users/karin/OneDrive/Área de Trabalho/data science/Aula 22 - Data Acquisition I-20240903T223726Z-001/Aula 22 - Data Acquisition I/Ecommerce Purchases.csv\")"
   ],
   "id": "811dc3a7309fc32f",
   "outputs": [],
   "execution_count": 3
  },
  {
   "metadata": {
    "ExecuteTime": {
     "end_time": "2024-09-04T03:27:30.526937Z",
     "start_time": "2024-09-04T03:27:16.307315Z"
    }
   },
   "cell_type": "code",
   "source": [
    "import pandas as pd\n",
    "import gzip\n",
    "\n",
    "# Tentar abrir o arquivo como um arquivo comprimido com gzip\n",
    "try:\n",
    "    with gzip.open(\"C:/Users/karin/OneDrive/Área de Trabalho/data science/Aula 22 - Data Acquisition I-20240903T223726Z-001/Aula 22 - Data Acquisition I/data.pkl\", 'rb') as f:\n",
    "        pkl_data = pd.read_pickle(f)\n",
    "    print(pkl_data.head())\n",
    "except Exception as e:\n",
    "    print(f\"Erro: {e}\")\n",
    "    \n",
    "# Leitura dos arquivos Excel e Pickle\n",
    "excel_data = pd.read_excel(\"C:/Users/karin/OneDrive/Área de Trabalho/data science/Aula 22 - Data Acquisition I-20240903T223726Z-001/Aula 22 - Data Acquisition I/data.xlsx\")\n",
    "\n",
    "\n"
   ],
   "id": "51ec2e048f9b4c7a",
   "outputs": [
    {
     "name": "stdout",
     "output_type": "stream",
     "text": [
      "    Age      Sex      ID    Race         Country   Education  Education-Num  \\\n",
      "0  39.0     Male   49084   White   United-States   Bachelors           13.0   \n",
      "1  50.0     Male   68553   White   United-States   Bachelors           13.0   \n",
      "2  38.0     Male  143654   White   United-States     HS-grad            9.0   \n",
      "3  53.0     Male   41510   Black   United-States        11th            7.0   \n",
      "4  28.0   Female  195025   Black            Cuba   Bachelors           13.0   \n",
      "\n",
      "        Marital Status    Relationship  \n",
      "0        Never-married   Not-in-family  \n",
      "1   Married-civ-spouse         Husband  \n",
      "2             Divorced   Not-in-family  \n",
      "3   Married-civ-spouse         Husband  \n",
      "4   Married-civ-spouse            Wife  \n"
     ]
    }
   ],
   "execution_count": 4
  },
  {
   "metadata": {
    "ExecuteTime": {
     "end_time": "2024-09-04T03:27:30.606541Z",
     "start_time": "2024-09-04T03:27:30.532953Z"
    }
   },
   "cell_type": "code",
   "source": [
    "import pandas as pd\n",
    "\n",
    "# Leitura dos arquivos de texto\n",
    "dates1 = pd.read_csv(\"C:/Users/karin/OneDrive/Área de Trabalho/data science/Aula 22 - Data Acquisition I-20240903T223726Z-001/Aula 22 - Data Acquisition I/dates.txt\", header=None)\n",
    "dates2 = pd.read_csv(\"C:/Users/karin/OneDrive/Área de Trabalho/data science/Aula 22 - Data Acquisition I-20240903T223726Z-001/Aula 22 - Data Acquisition I/dates2.txt\", header=None)\n",
    "dates3 = pd.read_csv(\"C:/Users/karin/OneDrive/Área de Trabalho/data science/Aula 22 - Data Acquisition I-20240903T223726Z-001/Aula 22 - Data Acquisition I/dates3.txt\", header=None)"
   ],
   "id": "14709c517e5e8a78",
   "outputs": [],
   "execution_count": 5
  },
  {
   "metadata": {
    "ExecuteTime": {
     "end_time": "2024-09-04T03:27:40.555966Z",
     "start_time": "2024-09-04T03:27:40.541617Z"
    }
   },
   "cell_type": "code",
   "source": [
    "import pandas as pd\n",
    "\n",
    "# Leitura do arquivo \"enquete.txt\" com delimitadores personalizados\n",
    "enquete_data = pd.read_csv(r'C:/Users/karin/OneDrive/Área de Trabalho/data science/Aula 22 - Data Acquisition I-20240903T223726Z-001/Aula 22 - Data Acquisition I/enquete.txt', sep=r'\\s+', engine='python')\n"
   ],
   "id": "a283a81a111f02e2",
   "outputs": [],
   "execution_count": 7
  },
  {
   "metadata": {
    "ExecuteTime": {
     "end_time": "2024-09-04T03:27:45.055852Z",
     "start_time": "2024-09-04T03:27:44.927663Z"
    }
   },
   "cell_type": "code",
   "source": [
    "# Leitura do arquivo \"ex_boleano.txt\"\n",
    "ex_boleano_data = pd.read_csv(\"C:/Users/karin/OneDrive/Área de Trabalho/data science/Aula 22 - Data Acquisition I-20240903T223726Z-001/Aula 22 - Data Acquisition I/ex_boleano.txt\", header=None)\n",
    "\n",
    "# Leitura do arquivo \"white_space.txt\" com a correção sugerida\n",
    "white_space_data = pd.read_csv(\"C:/Users/karin/OneDrive/Área de Trabalho/data science/Aula 22 - Data Acquisition I-20240903T223726Z-001/Aula 22 - Data Acquisition I/white_space.txt\", header=None, sep=r'\\s+')"
   ],
   "id": "e1003dce14547477",
   "outputs": [],
   "execution_count": 8
  },
  {
   "metadata": {
    "ExecuteTime": {
     "end_time": "2024-09-04T03:27:48.229790Z",
     "start_time": "2024-09-04T03:27:48.102968Z"
    }
   },
   "cell_type": "code",
   "source": [
    "# Vamos verificar a estrutura dos dados e se há valores faltantes\n",
    "print(ecommerce_data.info())\n",
    "print(excel_data.info())\n",
    "print(pkl_data.info())\n",
    "print(enquete_data.info())"
   ],
   "id": "c92effe7dd10f8a2",
   "outputs": [
    {
     "name": "stdout",
     "output_type": "stream",
     "text": [
      "<class 'pandas.core.frame.DataFrame'>\n",
      "RangeIndex: 10000 entries, 0 to 9999\n",
      "Data columns (total 14 columns):\n",
      " #   Column            Non-Null Count  Dtype  \n",
      "---  ------            --------------  -----  \n",
      " 0   Address           10000 non-null  object \n",
      " 1   Lot               10000 non-null  object \n",
      " 2   AM or PM          10000 non-null  object \n",
      " 3   Browser Info      10000 non-null  object \n",
      " 4   Company           10000 non-null  object \n",
      " 5   Credit Card       10000 non-null  int64  \n",
      " 6   CC Exp Date       10000 non-null  object \n",
      " 7   CC Security Code  10000 non-null  int64  \n",
      " 8   CC Provider       10000 non-null  object \n",
      " 9   Email             10000 non-null  object \n",
      " 10  Job               10000 non-null  object \n",
      " 11  IP Address        10000 non-null  object \n",
      " 12  Language          10000 non-null  object \n",
      " 13  Purchase Price    10000 non-null  float64\n",
      "dtypes: float64(1), int64(2), object(11)\n",
      "memory usage: 1.1+ MB\n",
      "None\n",
      "<class 'pandas.core.frame.DataFrame'>\n",
      "RangeIndex: 48843 entries, 0 to 48842\n",
      "Data columns (total 9 columns):\n",
      " #   Column          Non-Null Count  Dtype  \n",
      "---  ------          --------------  -----  \n",
      " 0   Age             48842 non-null  float64\n",
      " 1   Sex             48842 non-null  object \n",
      " 2   ID              48843 non-null  int64  \n",
      " 3   Race            48842 non-null  object \n",
      " 4   Country         48842 non-null  object \n",
      " 5   Education       48842 non-null  object \n",
      " 6   Education-Num   48842 non-null  float64\n",
      " 7   Marital Status  48842 non-null  object \n",
      " 8   Relationship    48842 non-null  object \n",
      "dtypes: float64(2), int64(1), object(6)\n",
      "memory usage: 3.4+ MB\n",
      "None\n",
      "<class 'pandas.core.frame.DataFrame'>\n",
      "RangeIndex: 48843 entries, 0 to 48842\n",
      "Data columns (total 9 columns):\n",
      " #   Column          Non-Null Count  Dtype  \n",
      "---  ------          --------------  -----  \n",
      " 0   Age             48842 non-null  float64\n",
      " 1   Sex             48842 non-null  object \n",
      " 2   ID              48843 non-null  int64  \n",
      " 3   Race            48842 non-null  object \n",
      " 4   Country         48842 non-null  object \n",
      " 5   Education       48842 non-null  object \n",
      " 6   Education-Num   48842 non-null  float64\n",
      " 7   Marital Status  48842 non-null  object \n",
      " 8   Relationship    48842 non-null  object \n",
      "dtypes: float64(2), int64(1), object(6)\n",
      "memory usage: 3.4+ MB\n",
      "None\n",
      "<class 'pandas.core.frame.DataFrame'>\n",
      "RangeIndex: 30 entries, 0 to 29\n",
      "Data columns (total 5 columns):\n",
      " #   Column          Non-Null Count  Dtype  \n",
      "---  ------          --------------  -----  \n",
      " 0   ID              30 non-null     object \n",
      " 1   asistio         30 non-null     int64  \n",
      " 2   Tarea           30 non-null     float64\n",
      " 3   Comportamiento  18 non-null     float64\n",
      " 4   Pago            30 non-null     object \n",
      "dtypes: float64(2), int64(1), object(2)\n",
      "memory usage: 1.3+ KB\n",
      "None\n"
     ]
    }
   ],
   "execution_count": 9
  },
  {
   "metadata": {
    "ExecuteTime": {
     "end_time": "2024-09-04T03:27:53.859314Z",
     "start_time": "2024-09-04T03:27:53.835957Z"
    }
   },
   "cell_type": "code",
   "source": [
    "# Transformação: Exemplo de limpeza dos dados da enquete, preenchendo valores NaN\n",
    "enquete_data.fillna(0, inplace=True)\n",
    "\n",
    "# Convertendo tipos de dados se necessário\n",
    "enquete_data['asistio'] = enquete_data['asistio'].astype(int)\n",
    "enquete_data['Tarea'] = enquete_data['Tarea'].astype(float)\n",
    "enquete_data['Comportamiento'] = enquete_data['Comportamiento'].astype(float)"
   ],
   "id": "ac9045b82c3400a5",
   "outputs": [],
   "execution_count": 10
  },
  {
   "metadata": {},
   "cell_type": "markdown",
   "source": "### Análise e Visualização",
   "id": "d67287a07b2c8c58"
  },
  {
   "metadata": {
    "ExecuteTime": {
     "end_time": "2024-09-04T03:28:01.855570Z",
     "start_time": "2024-09-04T03:27:58.266596Z"
    }
   },
   "cell_type": "code",
   "source": [
    "import matplotlib.pyplot as plt\n",
    "\n",
    "# Exemplo: Contagem de compras por tipo de cartão no dataset de Ecommerce\n",
    "ecommerce_data['CC Provider'].value_counts().plot(kind='bar')\n",
    "plt.title('Contagem de Compras por Tipo de Cartão de Crédito')\n",
    "plt.xlabel('Provedor do Cartão de Crédito')\n",
    "plt.ylabel('Contagem de Compras')\n",
    "plt.show()\n",
    "\n",
    "# Exemplo: Relação entre \"asistio\" e \"Pago\" no dataset da enquete\n",
    "enquete_data.groupby(['asistio', 'Pago']).size().unstack().plot(kind='bar', stacked=True)\n",
    "plt.title('Relação entre Assistência e Pagamento')\n",
    "plt.xlabel('Assistência')\n",
    "plt.ylabel('Contagem')\n",
    "plt.show()\n"
   ],
   "id": "a56a316b60d8867b",
   "outputs": [
    {
     "data": {
      "text/plain": [
       "<Figure size 640x480 with 1 Axes>"
      ],
      "image/png": "[encoded data removed]"
     },
     "metadata": {},
     "output_type": "display_data"
    },
    {
     "data": {
      "text/plain": [
       "<Figure size 640x480 with 1 Axes>"
      ],
      "image/png": "[encoded data removed]"
     },
     "metadata": {},
     "output_type": "display_data"
    }
   ],
   "execution_count": 11
  },
  {
   "metadata": {},
   "cell_type": "markdown",
   "source": "#### Armazenamento dos Resultados",
   "id": "14907072cde7a0d4"
  },
  {
   "metadata": {
    "ExecuteTime": {
     "end_time": "2024-09-04T03:28:05.888473Z",
     "start_time": "2024-09-04T03:28:05.327445Z"
    }
   },
   "cell_type": "code",
   "source": [
    "import sqlite3\n",
    "import pandas as pd\n",
    "\n",
    "# Supondo que os dados já foram carregados e processados anteriormente\n",
    "\n",
    "# Salvando os dados transformados em novos arquivos CSV\n",
    "ecommerce_data.to_csv('ecommerce_data_cleaned.csv', index=False)\n",
    "enquete_data.to_csv('enquete_data_cleaned.csv', index=False)\n",
    "\n",
    "# Ou você pode armazenar em um banco de dados SQL\n",
    "conn = sqlite3.connect('meu_banco_de_dados.db')\n",
    "ecommerce_data.to_sql('ecommerce', conn, if_exists='replace', index=False)\n",
    "enquete_data.to_sql('enquete', conn, if_exists='replace', index=False)\n",
    "\n",
    "# Fechar a conexão com o banco de dados\n",
    "conn.close()\n",
    "\n"
   ],
   "id": "f973c9309eaad45c",
   "outputs": [],
   "execution_count": 12
  },
  {
   "metadata": {},
   "cell_type": "markdown",
   "source": [
    "## Criação de APIs para Fornecer Acesso aos Dados Processados\n",
    "Objetivo: Criar uma API RESTful que permita a outros sistemas ou usuários acessar os dados processados.\n",
    "\n",
    "Usando Flask para Criar uma API Simples:"
   ],
   "id": "f29f1d2b54954b85"
  },
  {
   "metadata": {
    "ExecuteTime": {
     "end_time": "2024-09-04T03:33:55.969792Z",
     "start_time": "2024-09-04T03:31:31.790289Z"
    }
   },
   "cell_type": "code",
   "source": [
    "from flask import Flask, jsonify\n",
    "import sqlite3\n",
    "\n",
    "app = Flask(__name__)\n",
    "\n",
    "def query_db(query):\n",
    "    conn = sqlite3.connect('meu_banco_de_dados.db')\n",
    "    cursor = conn.cursor()\n",
    "    cursor.execute(query)\n",
    "    result = cursor.fetchall()\n",
    "    conn.close()\n",
    "    return result\n",
    "\n",
    "@app.route('/api/ecommerce', methods=['GET'])\n",
    "def get_ecommerce_data():\n",
    "    data = query_db(\"SELECT * FROM ecommerce\")\n",
    "    return jsonify(data)\n",
    "\n",
    "@app.route('/api/enquete', methods=['GET'])\n",
    "def get_enquete_data():\n",
    "    data = query_db(\"SELECT * FROM enquete\")\n",
    "    return jsonify(data)\n",
    "\n",
    "if __name__ == '__main__':\n",
    "    app.run(debug=True, use_reloader=False)  # Certifique-se de estar executando com use_reloader=False no Jupyter Notebook\n",
    "\n",
    "\n"
   ],
   "id": "109125f533883f18",
   "outputs": [
    {
     "name": "stdout",
     "output_type": "stream",
     "text": [
      " * Serving Flask app '__main__'\n",
      " * Debug mode: on\n"
     ]
    },
    {
     "data": {
      "text/plain": [
       "00:31:31.820 | \u001B[36mINFO\u001B[0m    | werkzeug - \u001B[31m\u001B[1m\u001B[38;5;184mWARNING\u001B[0m: This is a development server. Do not use it in a production deployment. Use a production WSGI server instead.\u001B[0m\n",
       " * Running on \u001B[94mhttp://127.0.0.1:5000\u001B[0m\n"
      ],
      "text/html": [
       "<pre style=\"white-space:pre;overflow-x:auto;line-height:normal;font-family:Menlo,'DejaVu Sans Mono',consolas,'Courier New',monospace\">00:31:31.820 | <span style=\"color: #008080; text-decoration-color: #008080\">INFO</span>    | werkzeug - \u001B[31m\u001B[1m<span style=\"color: #d7d700; text-decoration-color: #d7d700\">WARNING</span>: This is a development server. Do not use it in a production deployment. Use a production WSGI server instead.\u001B[0m\n",
       " * Running on <span style=\"color: #0000ff; text-decoration-color: #0000ff\">http://127.0.0.1:5000</span>\n",
       "</pre>\n"
      ]
     },
     "metadata": {},
     "output_type": "display_data"
    },
    {
     "data": {
      "text/plain": [
       "00:31:31.829 | \u001B[36mINFO\u001B[0m    | werkzeug - \u001B[33mPress CTRL+C to quit\u001B[0m\n"
      ],
      "text/html": [
       "<pre style=\"white-space:pre;overflow-x:auto;line-height:normal;font-family:Menlo,'DejaVu Sans Mono',consolas,'Courier New',monospace\">00:31:31.829 | <span style=\"color: #008080; text-decoration-color: #008080\">INFO</span>    | werkzeug - \u001B[33mPress CTRL+C to quit\u001B[0m\n",
       "</pre>\n"
      ]
     },
     "metadata": {},
     "output_type": "display_data"
    },
    {
     "data": {
      "text/plain": [
       "00:31:36.647 | \u001B[36mINFO\u001B[0m    | werkzeug - 127.0.0.1 - - [04/Sep/2024 00:31:36] \"GET /api/ecommerce HTTP/1.1\" 200 -\n"
      ],
      "text/html": [
       "<pre style=\"white-space:pre;overflow-x:auto;line-height:normal;font-family:Menlo,'DejaVu Sans Mono',consolas,'Courier New',monospace\">00:31:36.647 | <span style=\"color: #008080; text-decoration-color: #008080\">INFO</span>    | werkzeug - 127.0.0.1 - - [04/Sep/2024 00:31:36] \"GET /api/ecommerce HTTP/1.1\" 200 -\n",
       "</pre>\n"
      ]
     },
     "metadata": {},
     "output_type": "display_data"
    },
    {
     "data": {
      "text/plain": [
       "00:31:37.545 | \u001B[36mINFO\u001B[0m    | werkzeug - 127.0.0.1 - - [04/Sep/2024 00:31:37] \"GET /api/ecommerce HTTP/1.1\" 200 -\n"
      ],
      "text/html": [
       "<pre style=\"white-space:pre;overflow-x:auto;line-height:normal;font-family:Menlo,'DejaVu Sans Mono',consolas,'Courier New',monospace\">00:31:37.545 | <span style=\"color: #008080; text-decoration-color: #008080\">INFO</span>    | werkzeug - 127.0.0.1 - - [04/Sep/2024 00:31:37] \"GET /api/ecommerce HTTP/1.1\" 200 -\n",
       "</pre>\n"
      ]
     },
     "metadata": {},
     "output_type": "display_data"
    },
    {
     "data": {
      "text/plain": [
       "00:31:51.247 | \u001B[36mINFO\u001B[0m    | werkzeug - 127.0.0.1 - - [04/Sep/2024 00:31:51] \"GET /api/enquete HTTP/1.1\" 200 -\n"
      ],
      "text/html": [
       "<pre style=\"white-space:pre;overflow-x:auto;line-height:normal;font-family:Menlo,'DejaVu Sans Mono',consolas,'Courier New',monospace\">00:31:51.247 | <span style=\"color: #008080; text-decoration-color: #008080\">INFO</span>    | werkzeug - 127.0.0.1 - - [04/Sep/2024 00:31:51] \"GET /api/enquete HTTP/1.1\" 200 -\n",
       "</pre>\n"
      ]
     },
     "metadata": {},
     "output_type": "display_data"
    }
   ],
   "execution_count": 16
  },
  {
   "metadata": {},
   "cell_type": "markdown",
   "source": [
    "## Automatização do Pipeline de Dados com o Prefect\n",
    "Objetivo: Automatizar o pipeline de ETL, desde a ingestão de dados até a análise e armazenamento.\n"
   ],
   "id": "14cf38b420ea58e6"
  },
  {
   "metadata": {
    "ExecuteTime": {
     "end_time": "2024-09-04T03:49:07.892868Z",
     "start_time": "2024-09-04T03:49:03.771815Z"
    }
   },
   "cell_type": "code",
   "source": [
    "import pandas as pd\n",
    "import sqlite3\n",
    "from prefect import task, flow\n",
    "\n",
    "# Definindo tarefas para o pipeline\n",
    "@task\n",
    "def extract_data():\n",
    "    # Use o caminho absoluto para o arquivo CSV\n",
    "    data = pd.read_csv('C:/Users/karin/OneDrive/Área de Trabalho/data science/ecommerce_data_cleaned.csv')\n",
    "    print(data.columns)  # Verificar as colunas disponíveis\n",
    "    return data\n",
    "\n",
    "@task\n",
    "def transform_data(data):\n",
    "    # Supondo que você queira usar a coluna 'Purchase Price' para algum cálculo\n",
    "    # Exemplo: Total_Price como duplicata de Purchase Price (ou ajuste conforme necessário)\n",
    "    data['Total_Price'] = data['Purchase Price']  # Ajuste conforme sua lógica\n",
    "    return data\n",
    "\n",
    "@task\n",
    "def load_data(data):\n",
    "    conn = sqlite3.connect('meu_banco_de_dados.db')\n",
    "    data.to_sql('ecommerce', conn, if_exists='replace', index=False)\n",
    "    conn.close()\n",
    "\n",
    "# Definindo o fluxo (pipeline) de ETL usando a API moderna\n",
    "@flow(name=\"ETL Pipeline\")\n",
    "def etl_flow():\n",
    "    data = extract_data()\n",
    "    transformed_data = transform_data(data)\n",
    "    load_data(transformed_data)\n",
    "\n",
    "# Executando o fluxo\n",
    "etl_flow()\n"
   ],
   "id": "b17b117f3c9b165b",
   "outputs": [
    {
     "data": {
      "text/plain": [
       "00:49:06.171 | \u001B[36mINFO\u001B[0m    | prefect.engine - Created flow run\u001B[35m 'transparent-barracuda'\u001B[0m for flow\u001B[1;35m 'ETL Pipeline'\u001B[0m\n"
      ],
      "text/html": [
       "<pre style=\"white-space:pre;overflow-x:auto;line-height:normal;font-family:Menlo,'DejaVu Sans Mono',consolas,'Courier New',monospace\">00:49:06.171 | <span style=\"color: #008080; text-decoration-color: #008080\">INFO</span>    | prefect.engine - Created flow run<span style=\"color: #800080; text-decoration-color: #800080\"> 'transparent-barracuda'</span> for flow<span style=\"color: #800080; text-decoration-color: #800080; font-weight: bold\"> 'ETL Pipeline'</span>\n",
       "</pre>\n"
      ]
     },
     "metadata": {},
     "output_type": "display_data"
    },
    {
     "data": {
      "text/plain": [
       "00:49:06.475 | \u001B[36mINFO\u001B[0m    | Flow run\u001B[35m 'transparent-barracuda'\u001B[0m - Created task run 'extract_data-0' for task 'extract_data'\n"
      ],
      "text/html": [
       "<pre style=\"white-space:pre;overflow-x:auto;line-height:normal;font-family:Menlo,'DejaVu Sans Mono',consolas,'Courier New',monospace\">00:49:06.475 | <span style=\"color: #008080; text-decoration-color: #008080\">INFO</span>    | Flow run<span style=\"color: #800080; text-decoration-color: #800080\"> 'transparent-barracuda'</span> - Created task run 'extract_data-0' for task 'extract_data'\n",
       "</pre>\n"
      ]
     },
     "metadata": {},
     "output_type": "display_data"
    },
    {
     "data": {
      "text/plain": [
       "00:49:06.481 | \u001B[36mINFO\u001B[0m    | Flow run\u001B[35m 'transparent-barracuda'\u001B[0m - Executing 'extract_data-0' immediately...\n"
      ],
      "text/html": [
       "<pre style=\"white-space:pre;overflow-x:auto;line-height:normal;font-family:Menlo,'DejaVu Sans Mono',consolas,'Courier New',monospace\">00:49:06.481 | <span style=\"color: #008080; text-decoration-color: #008080\">INFO</span>    | Flow run<span style=\"color: #800080; text-decoration-color: #800080\"> 'transparent-barracuda'</span> - Executing 'extract_data-0' immediately...\n",
       "</pre>\n"
      ]
     },
     "metadata": {},
     "output_type": "display_data"
    },
    {
     "name": "stdout",
     "output_type": "stream",
     "text": [
      "Index(['Address', 'Lot', 'AM or PM', 'Browser Info', 'Company', 'Credit Card',\n",
      "       'CC Exp Date', 'CC Security Code', 'CC Provider', 'Email', 'Job',\n",
      "       'IP Address', 'Language', 'Purchase Price'],\n",
      "      dtype='object')\n"
     ]
    },
    {
     "data": {
      "text/plain": [
       "00:49:06.829 | \u001B[36mINFO\u001B[0m    | Task run 'extract_data-0' - Finished in state \u001B[32mCompleted\u001B[0m()\n"
      ],
      "text/html": [
       "<pre style=\"white-space:pre;overflow-x:auto;line-height:normal;font-family:Menlo,'DejaVu Sans Mono',consolas,'Courier New',monospace\">00:49:06.829 | <span style=\"color: #008080; text-decoration-color: #008080\">INFO</span>    | Task run 'extract_data-0' - Finished in state <span style=\"color: #008000; text-decoration-color: #008000\">Completed</span>()\n",
       "</pre>\n"
      ]
     },
     "metadata": {},
     "output_type": "display_data"
    },
    {
     "data": {
      "text/plain": [
       "00:49:06.917 | \u001B[36mINFO\u001B[0m    | Flow run\u001B[35m 'transparent-barracuda'\u001B[0m - Created task run 'transform_data-0' for task 'transform_data'\n"
      ],
      "text/html": [
       "<pre style=\"white-space:pre;overflow-x:auto;line-height:normal;font-family:Menlo,'DejaVu Sans Mono',consolas,'Courier New',monospace\">00:49:06.917 | <span style=\"color: #008080; text-decoration-color: #008080\">INFO</span>    | Flow run<span style=\"color: #800080; text-decoration-color: #800080\"> 'transparent-barracuda'</span> - Created task run 'transform_data-0' for task 'transform_data'\n",
       "</pre>\n"
      ]
     },
     "metadata": {},
     "output_type": "display_data"
    },
    {
     "data": {
      "text/plain": [
       "00:49:06.920 | \u001B[36mINFO\u001B[0m    | Flow run\u001B[35m 'transparent-barracuda'\u001B[0m - Executing 'transform_data-0' immediately...\n"
      ],
      "text/html": [
       "<pre style=\"white-space:pre;overflow-x:auto;line-height:normal;font-family:Menlo,'DejaVu Sans Mono',consolas,'Courier New',monospace\">00:49:06.920 | <span style=\"color: #008080; text-decoration-color: #008080\">INFO</span>    | Flow run<span style=\"color: #800080; text-decoration-color: #800080\"> 'transparent-barracuda'</span> - Executing 'transform_data-0' immediately...\n",
       "</pre>\n"
      ]
     },
     "metadata": {},
     "output_type": "display_data"
    },
    {
     "data": {
      "text/plain": [
       "00:49:07.099 | \u001B[36mINFO\u001B[0m    | Task run 'transform_data-0' - Finished in state \u001B[32mCompleted\u001B[0m()\n"
      ],
      "text/html": [
       "<pre style=\"white-space:pre;overflow-x:auto;line-height:normal;font-family:Menlo,'DejaVu Sans Mono',consolas,'Courier New',monospace\">00:49:07.099 | <span style=\"color: #008080; text-decoration-color: #008080\">INFO</span>    | Task run 'transform_data-0' - Finished in state <span style=\"color: #008000; text-decoration-color: #008000\">Completed</span>()\n",
       "</pre>\n"
      ]
     },
     "metadata": {},
     "output_type": "display_data"
    },
    {
     "data": {
      "text/plain": [
       "00:49:07.141 | \u001B[36mINFO\u001B[0m    | Flow run\u001B[35m 'transparent-barracuda'\u001B[0m - Created task run 'load_data-0' for task 'load_data'\n"
      ],
      "text/html": [
       "<pre style=\"white-space:pre;overflow-x:auto;line-height:normal;font-family:Menlo,'DejaVu Sans Mono',consolas,'Courier New',monospace\">00:49:07.141 | <span style=\"color: #008080; text-decoration-color: #008080\">INFO</span>    | Flow run<span style=\"color: #800080; text-decoration-color: #800080\"> 'transparent-barracuda'</span> - Created task run 'load_data-0' for task 'load_data'\n",
       "</pre>\n"
      ]
     },
     "metadata": {},
     "output_type": "display_data"
    },
    {
     "data": {
      "text/plain": [
       "00:49:07.141 | \u001B[36mINFO\u001B[0m    | Flow run\u001B[35m 'transparent-barracuda'\u001B[0m - Executing 'load_data-0' immediately...\n"
      ],
      "text/html": [
       "<pre style=\"white-space:pre;overflow-x:auto;line-height:normal;font-family:Menlo,'DejaVu Sans Mono',consolas,'Courier New',monospace\">00:49:07.141 | <span style=\"color: #008080; text-decoration-color: #008080\">INFO</span>    | Flow run<span style=\"color: #800080; text-decoration-color: #800080\"> 'transparent-barracuda'</span> - Executing 'load_data-0' immediately...\n",
       "</pre>\n"
      ]
     },
     "metadata": {},
     "output_type": "display_data"
    },
    {
     "data": {
      "text/plain": [
       "00:49:07.614 | \u001B[36mINFO\u001B[0m    | Task run 'load_data-0' - Finished in state \u001B[32mCompleted\u001B[0m()\n"
      ],
      "text/html": [
       "<pre style=\"white-space:pre;overflow-x:auto;line-height:normal;font-family:Menlo,'DejaVu Sans Mono',consolas,'Courier New',monospace\">00:49:07.614 | <span style=\"color: #008080; text-decoration-color: #008080\">INFO</span>    | Task run 'load_data-0' - Finished in state <span style=\"color: #008000; text-decoration-color: #008000\">Completed</span>()\n",
       "</pre>\n"
      ]
     },
     "metadata": {},
     "output_type": "display_data"
    },
    {
     "data": {
      "text/plain": [
       "00:49:07.727 | \u001B[36mINFO\u001B[0m    | Flow run\u001B[35m 'transparent-barracuda'\u001B[0m - Finished in state \u001B[32mCompleted\u001B[0m('All states completed.')\n"
      ],
      "text/html": [
       "<pre style=\"white-space:pre;overflow-x:auto;line-height:normal;font-family:Menlo,'DejaVu Sans Mono',consolas,'Courier New',monospace\">00:49:07.727 | <span style=\"color: #008080; text-decoration-color: #008080\">INFO</span>    | Flow run<span style=\"color: #800080; text-decoration-color: #800080\"> 'transparent-barracuda'</span> - Finished in state <span style=\"color: #008000; text-decoration-color: #008000\">Completed</span>('All states completed.')\n",
       "</pre>\n"
      ]
     },
     "metadata": {},
     "output_type": "display_data"
    },
    {
     "data": {
      "text/plain": [
       "[Completed(message=None, type=COMPLETED, result=UnpersistedResult(type='unpersisted', artifact_type='result', artifact_description='Unpersisted result of type `DataFrame`')),\n",
       " Completed(message=None, type=COMPLETED, result=UnpersistedResult(type='unpersisted', artifact_type='result', artifact_description='Unpersisted result of type `DataFrame`')),\n",
       " Completed(message=None, type=COMPLETED, result=UnpersistedResult(type='unpersisted', artifact_type='result', artifact_description='Unpersisted result of type `NoneType`'))]"
      ]
     },
     "execution_count": 31,
     "metadata": {},
     "output_type": "execute_result"
    }
   ],
   "execution_count": 31
  },
  {
   "metadata": {
    "ExecuteTime": {
     "end_time": "2024-09-04T03:50:02.634155Z",
     "start_time": "2024-09-04T03:50:01.272980Z"
    }
   },
   "cell_type": "code",
   "source": [
    "result = etl_flow()\n",
    "print(result)\n"
   ],
   "id": "ab8c69051de57ca",
   "outputs": [
    {
     "data": {
      "text/plain": [
       "00:50:01.667 | \u001B[36mINFO\u001B[0m    | prefect.engine - Created flow run\u001B[35m 'tangible-iguana'\u001B[0m for flow\u001B[1;35m 'ETL Pipeline'\u001B[0m\n"
      ],
      "text/html": [
       "<pre style=\"white-space:pre;overflow-x:auto;line-height:normal;font-family:Menlo,'DejaVu Sans Mono',consolas,'Courier New',monospace\">00:50:01.667 | <span style=\"color: #008080; text-decoration-color: #008080\">INFO</span>    | prefect.engine - Created flow run<span style=\"color: #800080; text-decoration-color: #800080\"> 'tangible-iguana'</span> for flow<span style=\"color: #800080; text-decoration-color: #800080; font-weight: bold\"> 'ETL Pipeline'</span>\n",
       "</pre>\n"
      ]
     },
     "metadata": {},
     "output_type": "display_data"
    },
    {
     "data": {
      "text/plain": [
       "00:50:01.795 | \u001B[36mINFO\u001B[0m    | Flow run\u001B[35m 'tangible-iguana'\u001B[0m - Created task run 'extract_data-0' for task 'extract_data'\n"
      ],
      "text/html": [
       "<pre style=\"white-space:pre;overflow-x:auto;line-height:normal;font-family:Menlo,'DejaVu Sans Mono',consolas,'Courier New',monospace\">00:50:01.795 | <span style=\"color: #008080; text-decoration-color: #008080\">INFO</span>    | Flow run<span style=\"color: #800080; text-decoration-color: #800080\"> 'tangible-iguana'</span> - Created task run 'extract_data-0' for task 'extract_data'\n",
       "</pre>\n"
      ]
     },
     "metadata": {},
     "output_type": "display_data"
    },
    {
     "data": {
      "text/plain": [
       "00:50:01.795 | \u001B[36mINFO\u001B[0m    | Flow run\u001B[35m 'tangible-iguana'\u001B[0m - Executing 'extract_data-0' immediately...\n"
      ],
      "text/html": [
       "<pre style=\"white-space:pre;overflow-x:auto;line-height:normal;font-family:Menlo,'DejaVu Sans Mono',consolas,'Courier New',monospace\">00:50:01.795 | <span style=\"color: #008080; text-decoration-color: #008080\">INFO</span>    | Flow run<span style=\"color: #800080; text-decoration-color: #800080\"> 'tangible-iguana'</span> - Executing 'extract_data-0' immediately...\n",
       "</pre>\n"
      ]
     },
     "metadata": {},
     "output_type": "display_data"
    },
    {
     "name": "stdout",
     "output_type": "stream",
     "text": [
      "Index(['Address', 'Lot', 'AM or PM', 'Browser Info', 'Company', 'Credit Card',\n",
      "       'CC Exp Date', 'CC Security Code', 'CC Provider', 'Email', 'Job',\n",
      "       'IP Address', 'Language', 'Purchase Price'],\n",
      "      dtype='object')\n"
     ]
    },
    {
     "data": {
      "text/plain": [
       "00:50:01.981 | \u001B[36mINFO\u001B[0m    | Task run 'extract_data-0' - Finished in state \u001B[32mCompleted\u001B[0m()\n"
      ],
      "text/html": [
       "<pre style=\"white-space:pre;overflow-x:auto;line-height:normal;font-family:Menlo,'DejaVu Sans Mono',consolas,'Courier New',monospace\">00:50:01.981 | <span style=\"color: #008080; text-decoration-color: #008080\">INFO</span>    | Task run 'extract_data-0' - Finished in state <span style=\"color: #008000; text-decoration-color: #008000\">Completed</span>()\n",
       "</pre>\n"
      ]
     },
     "metadata": {},
     "output_type": "display_data"
    },
    {
     "data": {
      "text/plain": [
       "00:50:02.038 | \u001B[36mINFO\u001B[0m    | Flow run\u001B[35m 'tangible-iguana'\u001B[0m - Created task run 'transform_data-0' for task 'transform_data'\n"
      ],
      "text/html": [
       "<pre style=\"white-space:pre;overflow-x:auto;line-height:normal;font-family:Menlo,'DejaVu Sans Mono',consolas,'Courier New',monospace\">00:50:02.038 | <span style=\"color: #008080; text-decoration-color: #008080\">INFO</span>    | Flow run<span style=\"color: #800080; text-decoration-color: #800080\"> 'tangible-iguana'</span> - Created task run 'transform_data-0' for task 'transform_data'\n",
       "</pre>\n"
      ]
     },
     "metadata": {},
     "output_type": "display_data"
    },
    {
     "data": {
      "text/plain": [
       "00:50:02.040 | \u001B[36mINFO\u001B[0m    | Flow run\u001B[35m 'tangible-iguana'\u001B[0m - Executing 'transform_data-0' immediately...\n"
      ],
      "text/html": [
       "<pre style=\"white-space:pre;overflow-x:auto;line-height:normal;font-family:Menlo,'DejaVu Sans Mono',consolas,'Courier New',monospace\">00:50:02.040 | <span style=\"color: #008080; text-decoration-color: #008080\">INFO</span>    | Flow run<span style=\"color: #800080; text-decoration-color: #800080\"> 'tangible-iguana'</span> - Executing 'transform_data-0' immediately...\n",
       "</pre>\n"
      ]
     },
     "metadata": {},
     "output_type": "display_data"
    },
    {
     "data": {
      "text/plain": [
       "00:50:02.180 | \u001B[36mINFO\u001B[0m    | Task run 'transform_data-0' - Finished in state \u001B[32mCompleted\u001B[0m()\n"
      ],
      "text/html": [
       "<pre style=\"white-space:pre;overflow-x:auto;line-height:normal;font-family:Menlo,'DejaVu Sans Mono',consolas,'Courier New',monospace\">00:50:02.180 | <span style=\"color: #008080; text-decoration-color: #008080\">INFO</span>    | Task run 'transform_data-0' - Finished in state <span style=\"color: #008000; text-decoration-color: #008000\">Completed</span>()\n",
       "</pre>\n"
      ]
     },
     "metadata": {},
     "output_type": "display_data"
    },
    {
     "data": {
      "text/plain": [
       "00:50:02.210 | \u001B[36mINFO\u001B[0m    | Flow run\u001B[35m 'tangible-iguana'\u001B[0m - Created task run 'load_data-0' for task 'load_data'\n"
      ],
      "text/html": [
       "<pre style=\"white-space:pre;overflow-x:auto;line-height:normal;font-family:Menlo,'DejaVu Sans Mono',consolas,'Courier New',monospace\">00:50:02.210 | <span style=\"color: #008080; text-decoration-color: #008080\">INFO</span>    | Flow run<span style=\"color: #800080; text-decoration-color: #800080\"> 'tangible-iguana'</span> - Created task run 'load_data-0' for task 'load_data'\n",
       "</pre>\n"
      ]
     },
     "metadata": {},
     "output_type": "display_data"
    },
    {
     "data": {
      "text/plain": [
       "00:50:02.210 | \u001B[36mINFO\u001B[0m    | Flow run\u001B[35m 'tangible-iguana'\u001B[0m - Executing 'load_data-0' immediately...\n"
      ],
      "text/html": [
       "<pre style=\"white-space:pre;overflow-x:auto;line-height:normal;font-family:Menlo,'DejaVu Sans Mono',consolas,'Courier New',monospace\">00:50:02.210 | <span style=\"color: #008080; text-decoration-color: #008080\">INFO</span>    | Flow run<span style=\"color: #800080; text-decoration-color: #800080\"> 'tangible-iguana'</span> - Executing 'load_data-0' immediately...\n",
       "</pre>\n"
      ]
     },
     "metadata": {},
     "output_type": "display_data"
    },
    {
     "data": {
      "text/plain": [
       "00:50:02.527 | \u001B[36mINFO\u001B[0m    | Task run 'load_data-0' - Finished in state \u001B[32mCompleted\u001B[0m()\n"
      ],
      "text/html": [
       "<pre style=\"white-space:pre;overflow-x:auto;line-height:normal;font-family:Menlo,'DejaVu Sans Mono',consolas,'Courier New',monospace\">00:50:02.527 | <span style=\"color: #008080; text-decoration-color: #008080\">INFO</span>    | Task run 'load_data-0' - Finished in state <span style=\"color: #008000; text-decoration-color: #008000\">Completed</span>()\n",
       "</pre>\n"
      ]
     },
     "metadata": {},
     "output_type": "display_data"
    },
    {
     "data": {
      "text/plain": [
       "00:50:02.581 | \u001B[36mINFO\u001B[0m    | Flow run\u001B[35m 'tangible-iguana'\u001B[0m - Finished in state \u001B[32mCompleted\u001B[0m('All states completed.')\n"
      ],
      "text/html": [
       "<pre style=\"white-space:pre;overflow-x:auto;line-height:normal;font-family:Menlo,'DejaVu Sans Mono',consolas,'Courier New',monospace\">00:50:02.581 | <span style=\"color: #008080; text-decoration-color: #008080\">INFO</span>    | Flow run<span style=\"color: #800080; text-decoration-color: #800080\"> 'tangible-iguana'</span> - Finished in state <span style=\"color: #008000; text-decoration-color: #008000\">Completed</span>('All states completed.')\n",
       "</pre>\n"
      ]
     },
     "metadata": {},
     "output_type": "display_data"
    },
    {
     "name": "stdout",
     "output_type": "stream",
     "text": [
      "[Completed(message=None, type=COMPLETED, result=UnpersistedResult(type='unpersisted', artifact_type='result', artifact_description='Unpersisted result of type `DataFrame`')), Completed(message=None, type=COMPLETED, result=UnpersistedResult(type='unpersisted', artifact_type='result', artifact_description='Unpersisted result of type `DataFrame`')), Completed(message=None, type=COMPLETED, result=UnpersistedResult(type='unpersisted', artifact_type='result', artifact_description='Unpersisted result of type `NoneType`'))]\n"
     ]
    }
   ],
   "execution_count": 32
  },
  {
   "metadata": {
    "ExecuteTime": {
     "end_time": "2024-09-04T03:50:34.815184Z",
     "start_time": "2024-09-04T03:50:34.810304Z"
    }
   },
   "cell_type": "code",
   "source": [
    "@task\n",
    "def transform_data(data):\n",
    "    # Supondo que exista outra coluna chamada 'Quantity' ou similar\n",
    "    # Ajuste a lógica para a multiplicação adequada\n",
    "    data['Total_Price'] = data['Purchase Price'] * outra_coluna\n",
    "    return data\n"
   ],
   "id": "8b8e226e5a8d4eac",
   "outputs": [],
   "execution_count": 34
  },
  {
   "metadata": {
    "ExecuteTime": {
     "end_time": "2024-09-04T03:51:36.679881Z",
     "start_time": "2024-09-04T03:51:31.817699Z"
    }
   },
   "cell_type": "code",
   "source": [
    "import pandas as pd\n",
    "import sqlite3\n",
    "from prefect import task, flow\n",
    "\n",
    "# Definindo tarefas para o pipeline\n",
    "@task\n",
    "def extract_data():\n",
    "    # Use o caminho absoluto para o arquivo CSV\n",
    "    data = pd.read_csv('C:/Users/karin/OneDrive/Área de Trabalho/data science/ecommerce_data_cleaned.csv')\n",
    "    print(data.columns)  # Verificar as colunas disponíveis\n",
    "    return data\n",
    "\n",
    "@task\n",
    "def transform_data(data):\n",
    "    # Supondo que você queira usar a coluna 'Purchase Price' para algum cálculo\n",
    "    data['Total_Price'] = data['Purchase Price']  # Ajuste conforme sua lógica\n",
    "    print(data.head())  # Exibir os primeiros dados com a nova coluna\n",
    "    return data\n",
    "\n",
    "@task\n",
    "def load_data(data):\n",
    "    conn = sqlite3.connect('meu_banco_de_dados.db')\n",
    "    data.to_sql('ecommerce', conn, if_exists='replace', index=False)\n",
    "    conn.close()\n",
    "\n",
    "# Definindo o fluxo (pipeline) de ETL usando a API moderna\n",
    "@flow(name=\"ETL Pipeline\")\n",
    "def etl_flow():\n",
    "    data = extract_data()\n",
    "    transformed_data = transform_data(data)\n",
    "    load_data(transformed_data)\n",
    "    return transformed_data  # Retornar o DataFrame final\n",
    "\n",
    "# Executando o fluxo\n",
    "result = etl_flow()\n",
    "\n",
    "# Exibir os dados transformados\n",
    "print(result.head())\n"
   ],
   "id": "51c5fbc76c2c1ed7",
   "outputs": [
    {
     "data": {
      "text/plain": [
       "00:51:34.855 | \u001B[36mINFO\u001B[0m    | prefect.engine - Created flow run\u001B[35m 'denim-galago'\u001B[0m for flow\u001B[1;35m 'ETL Pipeline'\u001B[0m\n"
      ],
      "text/html": [
       "<pre style=\"white-space:pre;overflow-x:auto;line-height:normal;font-family:Menlo,'DejaVu Sans Mono',consolas,'Courier New',monospace\">00:51:34.855 | <span style=\"color: #008080; text-decoration-color: #008080\">INFO</span>    | prefect.engine - Created flow run<span style=\"color: #800080; text-decoration-color: #800080\"> 'denim-galago'</span> for flow<span style=\"color: #800080; text-decoration-color: #800080; font-weight: bold\"> 'ETL Pipeline'</span>\n",
       "</pre>\n"
      ]
     },
     "metadata": {},
     "output_type": "display_data"
    },
    {
     "data": {
      "text/plain": [
       "00:51:35.074 | \u001B[36mINFO\u001B[0m    | Flow run\u001B[35m 'denim-galago'\u001B[0m - Created task run 'extract_data-0' for task 'extract_data'\n"
      ],
      "text/html": [
       "<pre style=\"white-space:pre;overflow-x:auto;line-height:normal;font-family:Menlo,'DejaVu Sans Mono',consolas,'Courier New',monospace\">00:51:35.074 | <span style=\"color: #008080; text-decoration-color: #008080\">INFO</span>    | Flow run<span style=\"color: #800080; text-decoration-color: #800080\"> 'denim-galago'</span> - Created task run 'extract_data-0' for task 'extract_data'\n",
       "</pre>\n"
      ]
     },
     "metadata": {},
     "output_type": "display_data"
    },
    {
     "data": {
      "text/plain": [
       "00:51:35.084 | \u001B[36mINFO\u001B[0m    | Flow run\u001B[35m 'denim-galago'\u001B[0m - Executing 'extract_data-0' immediately...\n"
      ],
      "text/html": [
       "<pre style=\"white-space:pre;overflow-x:auto;line-height:normal;font-family:Menlo,'DejaVu Sans Mono',consolas,'Courier New',monospace\">00:51:35.084 | <span style=\"color: #008080; text-decoration-color: #008080\">INFO</span>    | Flow run<span style=\"color: #800080; text-decoration-color: #800080\"> 'denim-galago'</span> - Executing 'extract_data-0' immediately...\n",
       "</pre>\n"
      ]
     },
     "metadata": {},
     "output_type": "display_data"
    },
    {
     "name": "stdout",
     "output_type": "stream",
     "text": [
      "Index(['Address', 'Lot', 'AM or PM', 'Browser Info', 'Company', 'Credit Card',\n",
      "       'CC Exp Date', 'CC Security Code', 'CC Provider', 'Email', 'Job',\n",
      "       'IP Address', 'Language', 'Purchase Price'],\n",
      "      dtype='object')\n"
     ]
    },
    {
     "data": {
      "text/plain": [
       "00:51:35.442 | \u001B[36mINFO\u001B[0m    | Task run 'extract_data-0' - Finished in state \u001B[32mCompleted\u001B[0m()\n"
      ],
      "text/html": [
       "<pre style=\"white-space:pre;overflow-x:auto;line-height:normal;font-family:Menlo,'DejaVu Sans Mono',consolas,'Courier New',monospace\">00:51:35.442 | <span style=\"color: #008080; text-decoration-color: #008080\">INFO</span>    | Task run 'extract_data-0' - Finished in state <span style=\"color: #008000; text-decoration-color: #008000\">Completed</span>()\n",
       "</pre>\n"
      ]
     },
     "metadata": {},
     "output_type": "display_data"
    },
    {
     "data": {
      "text/plain": [
       "00:51:35.519 | \u001B[36mINFO\u001B[0m    | Flow run\u001B[35m 'denim-galago'\u001B[0m - Created task run 'transform_data-0' for task 'transform_data'\n"
      ],
      "text/html": [
       "<pre style=\"white-space:pre;overflow-x:auto;line-height:normal;font-family:Menlo,'DejaVu Sans Mono',consolas,'Courier New',monospace\">00:51:35.519 | <span style=\"color: #008080; text-decoration-color: #008080\">INFO</span>    | Flow run<span style=\"color: #800080; text-decoration-color: #800080\"> 'denim-galago'</span> - Created task run 'transform_data-0' for task 'transform_data'\n",
       "</pre>\n"
      ]
     },
     "metadata": {},
     "output_type": "display_data"
    },
    {
     "data": {
      "text/plain": [
       "00:51:35.523 | \u001B[36mINFO\u001B[0m    | Flow run\u001B[35m 'denim-galago'\u001B[0m - Executing 'transform_data-0' immediately...\n"
      ],
      "text/html": [
       "<pre style=\"white-space:pre;overflow-x:auto;line-height:normal;font-family:Menlo,'DejaVu Sans Mono',consolas,'Courier New',monospace\">00:51:35.523 | <span style=\"color: #008080; text-decoration-color: #008080\">INFO</span>    | Flow run<span style=\"color: #800080; text-decoration-color: #800080\"> 'denim-galago'</span> - Executing 'transform_data-0' immediately...\n",
       "</pre>\n"
      ]
     },
     "metadata": {},
     "output_type": "display_data"
    },
    {
     "name": "stdout",
     "output_type": "stream",
     "text": [
      "                                             Address    Lot AM or PM  \\\n",
      "0  16629 Pace Camp Apt. 448\\nAlexisborough, NE 77...  46 in       PM   \n",
      "1  9374 Jasmine Spurs Suite 508\\nSouth John, TN 8...  28 rn       PM   \n",
      "2                   Unit 0065 Box 5052\\nDPO AP 27450  94 vE       PM   \n",
      "3              7780 Julia Fords\\nNew Stacy, WA 45798  36 vm       PM   \n",
      "4  23012 Munoz Drive Suite 337\\nNew Cynthia, TX 5...  20 IE       AM   \n",
      "\n",
      "                                        Browser Info  \\\n",
      "0  Opera/9.56.(X11; Linux x86_64; sl-SI) Presto/2...   \n",
      "1  Opera/8.93.(Windows 98; Win 9x 4.90; en-US) Pr...   \n",
      "2  Mozilla/5.0 (compatible; MSIE 9.0; Windows NT ...   \n",
      "3  Mozilla/5.0 (Macintosh; Intel Mac OS X 10_8_0 ...   \n",
      "4  Opera/9.58.(X11; Linux x86_64; it-IT) Presto/2...   \n",
      "\n",
      "                           Company       Credit Card CC Exp Date  \\\n",
      "0                  Martinez-Herman  6011929061123406       02/20   \n",
      "1  Fletcher, Richards and Whitaker  3337758169645356       11/18   \n",
      "2       Simpson, Williams and Pham      675957666125       08/19   \n",
      "3  Williams, Marshall and Buchanan  6011578504430710       02/24   \n",
      "4        Brown, Watson and Andrews  6011456623207998       10/25   \n",
      "\n",
      "   CC Security Code                  CC Provider  \\\n",
      "0               900                 JCB 16 digit   \n",
      "1               561                   Mastercard   \n",
      "2               699                 JCB 16 digit   \n",
      "3               384                     Discover   \n",
      "4               678  Diners Club / Carte Blanche   \n",
      "\n",
      "                            Email                                     Job  \\\n",
      "0               pdunlap@yahoo.com  Scientist, product/process development   \n",
      "1              anthony41@reed.com                       Drilling engineer   \n",
      "2  amymiller@morales-harrison.com                Customer service manager   \n",
      "3     brent16@olson-robinson.info                       Drilling engineer   \n",
      "4     christopherwright@gmail.com                             Fine artist   \n",
      "\n",
      "        IP Address Language  Purchase Price  Total_Price  \n",
      "0  149.146.147.205       el           98.14        98.14  \n",
      "1     15.160.41.51       fr           70.73        70.73  \n",
      "2   132.207.160.22       de            0.95         0.95  \n",
      "3     30.250.74.19       es           78.04        78.04  \n",
      "4     24.140.33.94       es           77.82        77.82  \n"
     ]
    },
    {
     "data": {
      "text/plain": [
       "00:51:35.811 | \u001B[36mINFO\u001B[0m    | Task run 'transform_data-0' - Finished in state \u001B[32mCompleted\u001B[0m()\n"
      ],
      "text/html": [
       "<pre style=\"white-space:pre;overflow-x:auto;line-height:normal;font-family:Menlo,'DejaVu Sans Mono',consolas,'Courier New',monospace\">00:51:35.811 | <span style=\"color: #008080; text-decoration-color: #008080\">INFO</span>    | Task run 'transform_data-0' - Finished in state <span style=\"color: #008000; text-decoration-color: #008000\">Completed</span>()\n",
       "</pre>\n"
      ]
     },
     "metadata": {},
     "output_type": "display_data"
    },
    {
     "data": {
      "text/plain": [
       "00:51:35.877 | \u001B[36mINFO\u001B[0m    | Flow run\u001B[35m 'denim-galago'\u001B[0m - Created task run 'load_data-0' for task 'load_data'\n"
      ],
      "text/html": [
       "<pre style=\"white-space:pre;overflow-x:auto;line-height:normal;font-family:Menlo,'DejaVu Sans Mono',consolas,'Courier New',monospace\">00:51:35.877 | <span style=\"color: #008080; text-decoration-color: #008080\">INFO</span>    | Flow run<span style=\"color: #800080; text-decoration-color: #800080\"> 'denim-galago'</span> - Created task run 'load_data-0' for task 'load_data'\n",
       "</pre>\n"
      ]
     },
     "metadata": {},
     "output_type": "display_data"
    },
    {
     "data": {
      "text/plain": [
       "00:51:35.892 | \u001B[36mINFO\u001B[0m    | Flow run\u001B[35m 'denim-galago'\u001B[0m - Executing 'load_data-0' immediately...\n"
      ],
      "text/html": [
       "<pre style=\"white-space:pre;overflow-x:auto;line-height:normal;font-family:Menlo,'DejaVu Sans Mono',consolas,'Courier New',monospace\">00:51:35.892 | <span style=\"color: #008080; text-decoration-color: #008080\">INFO</span>    | Flow run<span style=\"color: #800080; text-decoration-color: #800080\"> 'denim-galago'</span> - Executing 'load_data-0' immediately...\n",
       "</pre>\n"
      ]
     },
     "metadata": {},
     "output_type": "display_data"
    },
    {
     "data": {
      "text/plain": [
       "00:51:36.428 | \u001B[36mINFO\u001B[0m    | Task run 'load_data-0' - Finished in state \u001B[32mCompleted\u001B[0m()\n"
      ],
      "text/html": [
       "<pre style=\"white-space:pre;overflow-x:auto;line-height:normal;font-family:Menlo,'DejaVu Sans Mono',consolas,'Courier New',monospace\">00:51:36.428 | <span style=\"color: #008080; text-decoration-color: #008080\">INFO</span>    | Task run 'load_data-0' - Finished in state <span style=\"color: #008000; text-decoration-color: #008000\">Completed</span>()\n",
       "</pre>\n"
      ]
     },
     "metadata": {},
     "output_type": "display_data"
    },
    {
     "data": {
      "text/plain": [
       "00:51:36.515 | \u001B[36mINFO\u001B[0m    | Flow run\u001B[35m 'denim-galago'\u001B[0m - Finished in state \u001B[32mCompleted\u001B[0m()\n"
      ],
      "text/html": [
       "<pre style=\"white-space:pre;overflow-x:auto;line-height:normal;font-family:Menlo,'DejaVu Sans Mono',consolas,'Courier New',monospace\">00:51:36.515 | <span style=\"color: #008080; text-decoration-color: #008080\">INFO</span>    | Flow run<span style=\"color: #800080; text-decoration-color: #800080\"> 'denim-galago'</span> - Finished in state <span style=\"color: #008000; text-decoration-color: #008000\">Completed</span>()\n",
       "</pre>\n"
      ]
     },
     "metadata": {},
     "output_type": "display_data"
    },
    {
     "name": "stdout",
     "output_type": "stream",
     "text": [
      "                                             Address    Lot AM or PM  \\\n",
      "0  16629 Pace Camp Apt. 448\\nAlexisborough, NE 77...  46 in       PM   \n",
      "1  9374 Jasmine Spurs Suite 508\\nSouth John, TN 8...  28 rn       PM   \n",
      "2                   Unit 0065 Box 5052\\nDPO AP 27450  94 vE       PM   \n",
      "3              7780 Julia Fords\\nNew Stacy, WA 45798  36 vm       PM   \n",
      "4  23012 Munoz Drive Suite 337\\nNew Cynthia, TX 5...  20 IE       AM   \n",
      "\n",
      "                                        Browser Info  \\\n",
      "0  Opera/9.56.(X11; Linux x86_64; sl-SI) Presto/2...   \n",
      "1  Opera/8.93.(Windows 98; Win 9x 4.90; en-US) Pr...   \n",
      "2  Mozilla/5.0 (compatible; MSIE 9.0; Windows NT ...   \n",
      "3  Mozilla/5.0 (Macintosh; Intel Mac OS X 10_8_0 ...   \n",
      "4  Opera/9.58.(X11; Linux x86_64; it-IT) Presto/2...   \n",
      "\n",
      "                           Company       Credit Card CC Exp Date  \\\n",
      "0                  Martinez-Herman  6011929061123406       02/20   \n",
      "1  Fletcher, Richards and Whitaker  3337758169645356       11/18   \n",
      "2       Simpson, Williams and Pham      675957666125       08/19   \n",
      "3  Williams, Marshall and Buchanan  6011578504430710       02/24   \n",
      "4        Brown, Watson and Andrews  6011456623207998       10/25   \n",
      "\n",
      "   CC Security Code                  CC Provider  \\\n",
      "0               900                 JCB 16 digit   \n",
      "1               561                   Mastercard   \n",
      "2               699                 JCB 16 digit   \n",
      "3               384                     Discover   \n",
      "4               678  Diners Club / Carte Blanche   \n",
      "\n",
      "                            Email                                     Job  \\\n",
      "0               pdunlap@yahoo.com  Scientist, product/process development   \n",
      "1              anthony41@reed.com                       Drilling engineer   \n",
      "2  amymiller@morales-harrison.com                Customer service manager   \n",
      "3     brent16@olson-robinson.info                       Drilling engineer   \n",
      "4     christopherwright@gmail.com                             Fine artist   \n",
      "\n",
      "        IP Address Language  Purchase Price  Total_Price  \n",
      "0  149.146.147.205       el           98.14        98.14  \n",
      "1     15.160.41.51       fr           70.73        70.73  \n",
      "2   132.207.160.22       de            0.95         0.95  \n",
      "3     30.250.74.19       es           78.04        78.04  \n",
      "4     24.140.33.94       es           77.82        77.82  \n"
     ]
    }
   ],
   "execution_count": 35
  },
  {
   "metadata": {},
   "cell_type": "markdown",
   "source": "## Pipeline com Machine Learning",
   "id": "15735c4f98fc1961"
  },
  {
   "metadata": {},
   "cell_type": "markdown",
   "source": "### Machine Learning (Regressão Linear)",
   "id": "d4f3057365e5fb02"
  },
  {
   "metadata": {
    "ExecuteTime": {
     "end_time": "2024-09-04T03:58:50.316706Z",
     "start_time": "2024-09-04T03:58:41.144308Z"
    }
   },
   "cell_type": "code",
   "source": [
    "import pandas as pd\n",
    "import sqlite3\n",
    "from sklearn.model_selection import train_test_split\n",
    "from sklearn.linear_model import LinearRegression\n",
    "from sklearn.preprocessing import LabelEncoder\n",
    "import joblib  # Para salvar o modelo\n",
    "from prefect import task, flow\n",
    "\n",
    "# Definindo tarefas para o pipeline\n",
    "@task\n",
    "def extract_data():\n",
    "    data = pd.read_csv('C:/Users/karin/OneDrive/Área de Trabalho/data science/ecommerce_data_cleaned.csv')\n",
    "    print(\"Dados extraídos:\")\n",
    "    print(data.head())  # Exibir os primeiros dados\n",
    "    return data\n",
    "\n",
    "@task\n",
    "def transform_data(data):\n",
    "    data['Total_Price'] = data['Purchase Price']\n",
    "    print(\"Dados após a transformação:\")\n",
    "    print(data.head())  # Exibir os dados após a transformação\n",
    "    return data\n",
    "\n",
    "@task\n",
    "def prepare_for_modeling(data):\n",
    "    le = LabelEncoder()\n",
    "    data['Job_encoded'] = le.fit_transform(data['Job'])\n",
    "    data['Company_encoded'] = le.fit_transform(data['Company'])\n",
    "    data['Language_encoded'] = le.fit_transform(data['Language'])\n",
    "\n",
    "    X = data[['Job_encoded', 'Company_encoded', 'Language_encoded']]\n",
    "    y = data['Purchase Price']\n",
    "    \n",
    "    X_train, X_test, y_train, y_test = train_test_split(X, y, test_size=0.2, random_state=42)\n",
    "    print(\"Dados preparados para modelagem:\")\n",
    "    print(X_train.head())  # Exibir os primeiros dados de treino\n",
    "    return X_train, X_test, y_train, y_test\n",
    "\n",
    "@task\n",
    "def train_model(X_train, y_train):\n",
    "    model = LinearRegression()\n",
    "    model.fit(X_train, y_train)\n",
    "    joblib.dump(model, 'linear_regression_model.pkl')\n",
    "    print(\"Modelo treinado.\")\n",
    "    return model\n",
    "\n",
    "@task\n",
    "def evaluate_model(model, X_test, y_test):\n",
    "    predictions = model.predict(X_test)\n",
    "    accuracy = model.score(X_test, y_test)\n",
    "    print(f\"Acurácia do modelo: {accuracy}\")\n",
    "    return accuracy\n",
    "\n",
    "@task\n",
    "def load_data(data):\n",
    "    conn = sqlite3.connect('meu_banco_de_dados.db')\n",
    "    data.to_sql('ecommerce', conn, if_exists='replace', index=False)\n",
    "    conn.close()\n",
    "    print(\"Dados carregados no banco de dados.\")\n",
    "\n",
    "# Definindo o fluxo (pipeline) de ETL e Machine Learning usando a API moderna\n",
    "@flow(name=\"ETL + Machine Learning Pipeline\")\n",
    "def etl_ml_flow():\n",
    "    data = extract_data()\n",
    "    transformed_data = transform_data(data)\n",
    "    X_train, X_test, y_train, y_test = prepare_for_modeling(transformed_data)\n",
    "    model = train_model(X_train, y_train)\n",
    "    accuracy = evaluate_model(model, X_test, y_test)\n",
    "    load_data(transformed_data)\n",
    "\n",
    "# Executando o fluxo\n",
    "etl_ml_flow()\n",
    "\n"
   ],
   "id": "204a7243ce67dfb2",
   "outputs": [
    {
     "data": {
      "text/plain": [
       "00:58:44.670 | \u001B[36mINFO\u001B[0m    | prefect.engine - Created flow run\u001B[35m 'watchful-fox'\u001B[0m for flow\u001B[1;35m 'ETL + Machine Learning Pipeline'\u001B[0m\n"
      ],
      "text/html": [
       "<pre style=\"white-space:pre;overflow-x:auto;line-height:normal;font-family:Menlo,'DejaVu Sans Mono',consolas,'Courier New',monospace\">00:58:44.670 | <span style=\"color: #008080; text-decoration-color: #008080\">INFO</span>    | prefect.engine - Created flow run<span style=\"color: #800080; text-decoration-color: #800080\"> 'watchful-fox'</span> for flow<span style=\"color: #800080; text-decoration-color: #800080; font-weight: bold\"> 'ETL + Machine Learning Pipeline'</span>\n",
       "</pre>\n"
      ]
     },
     "metadata": {},
     "output_type": "display_data"
    },
    {
     "data": {
      "text/plain": [
       "00:58:44.957 | \u001B[36mINFO\u001B[0m    | Flow run\u001B[35m 'watchful-fox'\u001B[0m - Created task run 'extract_data-0' for task 'extract_data'\n"
      ],
      "text/html": [
       "<pre style=\"white-space:pre;overflow-x:auto;line-height:normal;font-family:Menlo,'DejaVu Sans Mono',consolas,'Courier New',monospace\">00:58:44.957 | <span style=\"color: #008080; text-decoration-color: #008080\">INFO</span>    | Flow run<span style=\"color: #800080; text-decoration-color: #800080\"> 'watchful-fox'</span> - Created task run 'extract_data-0' for task 'extract_data'\n",
       "</pre>\n"
      ]
     },
     "metadata": {},
     "output_type": "display_data"
    },
    {
     "data": {
      "text/plain": [
       "00:58:44.957 | \u001B[36mINFO\u001B[0m    | Flow run\u001B[35m 'watchful-fox'\u001B[0m - Executing 'extract_data-0' immediately...\n"
      ],
      "text/html": [
       "<pre style=\"white-space:pre;overflow-x:auto;line-height:normal;font-family:Menlo,'DejaVu Sans Mono',consolas,'Courier New',monospace\">00:58:44.957 | <span style=\"color: #008080; text-decoration-color: #008080\">INFO</span>    | Flow run<span style=\"color: #800080; text-decoration-color: #800080\"> 'watchful-fox'</span> - Executing 'extract_data-0' immediately...\n",
       "</pre>\n"
      ]
     },
     "metadata": {},
     "output_type": "display_data"
    },
    {
     "name": "stdout",
     "output_type": "stream",
     "text": [
      "Dados extraídos:\n",
      "                                             Address    Lot AM or PM  \\\n",
      "0  16629 Pace Camp Apt. 448\\nAlexisborough, NE 77...  46 in       PM   \n",
      "1  9374 Jasmine Spurs Suite 508\\nSouth John, TN 8...  28 rn       PM   \n",
      "2                   Unit 0065 Box 5052\\nDPO AP 27450  94 vE       PM   \n",
      "3              7780 Julia Fords\\nNew Stacy, WA 45798  36 vm       PM   \n",
      "4  23012 Munoz Drive Suite 337\\nNew Cynthia, TX 5...  20 IE       AM   \n",
      "\n",
      "                                        Browser Info  \\\n",
      "0  Opera/9.56.(X11; Linux x86_64; sl-SI) Presto/2...   \n",
      "1  Opera/8.93.(Windows 98; Win 9x 4.90; en-US) Pr...   \n",
      "2  Mozilla/5.0 (compatible; MSIE 9.0; Windows NT ...   \n",
      "3  Mozilla/5.0 (Macintosh; Intel Mac OS X 10_8_0 ...   \n",
      "4  Opera/9.58.(X11; Linux x86_64; it-IT) Presto/2...   \n",
      "\n",
      "                           Company       Credit Card CC Exp Date  \\\n",
      "0                  Martinez-Herman  6011929061123406       02/20   \n",
      "1  Fletcher, Richards and Whitaker  3337758169645356       11/18   \n",
      "2       Simpson, Williams and Pham      675957666125       08/19   \n",
      "3  Williams, Marshall and Buchanan  6011578504430710       02/24   \n",
      "4        Brown, Watson and Andrews  6011456623207998       10/25   \n",
      "\n",
      "   CC Security Code                  CC Provider  \\\n",
      "0               900                 JCB 16 digit   \n",
      "1               561                   Mastercard   \n",
      "2               699                 JCB 16 digit   \n",
      "3               384                     Discover   \n",
      "4               678  Diners Club / Carte Blanche   \n",
      "\n",
      "                            Email                                     Job  \\\n",
      "0               pdunlap@yahoo.com  Scientist, product/process development   \n",
      "1              anthony41@reed.com                       Drilling engineer   \n",
      "2  amymiller@morales-harrison.com                Customer service manager   \n",
      "3     brent16@olson-robinson.info                       Drilling engineer   \n",
      "4     christopherwright@gmail.com                             Fine artist   \n",
      "\n",
      "        IP Address Language  Purchase Price  \n",
      "0  149.146.147.205       el           98.14  \n",
      "1     15.160.41.51       fr           70.73  \n",
      "2   132.207.160.22       de            0.95  \n",
      "3     30.250.74.19       es           78.04  \n",
      "4     24.140.33.94       es           77.82  \n"
     ]
    },
    {
     "data": {
      "text/plain": [
       "00:58:45.514 | \u001B[36mINFO\u001B[0m    | Task run 'extract_data-0' - Finished in state \u001B[32mCompleted\u001B[0m()\n"
      ],
      "text/html": [
       "<pre style=\"white-space:pre;overflow-x:auto;line-height:normal;font-family:Menlo,'DejaVu Sans Mono',consolas,'Courier New',monospace\">00:58:45.514 | <span style=\"color: #008080; text-decoration-color: #008080\">INFO</span>    | Task run 'extract_data-0' - Finished in state <span style=\"color: #008000; text-decoration-color: #008000\">Completed</span>()\n",
       "</pre>\n"
      ]
     },
     "metadata": {},
     "output_type": "display_data"
    },
    {
     "data": {
      "text/plain": [
       "00:58:45.585 | \u001B[36mINFO\u001B[0m    | Flow run\u001B[35m 'watchful-fox'\u001B[0m - Created task run 'transform_data-0' for task 'transform_data'\n"
      ],
      "text/html": [
       "<pre style=\"white-space:pre;overflow-x:auto;line-height:normal;font-family:Menlo,'DejaVu Sans Mono',consolas,'Courier New',monospace\">00:58:45.585 | <span style=\"color: #008080; text-decoration-color: #008080\">INFO</span>    | Flow run<span style=\"color: #800080; text-decoration-color: #800080\"> 'watchful-fox'</span> - Created task run 'transform_data-0' for task 'transform_data'\n",
       "</pre>\n"
      ]
     },
     "metadata": {},
     "output_type": "display_data"
    },
    {
     "data": {
      "text/plain": [
       "00:58:45.587 | \u001B[36mINFO\u001B[0m    | Flow run\u001B[35m 'watchful-fox'\u001B[0m - Executing 'transform_data-0' immediately...\n"
      ],
      "text/html": [
       "<pre style=\"white-space:pre;overflow-x:auto;line-height:normal;font-family:Menlo,'DejaVu Sans Mono',consolas,'Courier New',monospace\">00:58:45.587 | <span style=\"color: #008080; text-decoration-color: #008080\">INFO</span>    | Flow run<span style=\"color: #800080; text-decoration-color: #800080\"> 'watchful-fox'</span> - Executing 'transform_data-0' immediately...\n",
       "</pre>\n"
      ]
     },
     "metadata": {},
     "output_type": "display_data"
    },
    {
     "name": "stdout",
     "output_type": "stream",
     "text": [
      "Dados após a transformação:\n",
      "                                             Address    Lot AM or PM  \\\n",
      "0  16629 Pace Camp Apt. 448\\nAlexisborough, NE 77...  46 in       PM   \n",
      "1  9374 Jasmine Spurs Suite 508\\nSouth John, TN 8...  28 rn       PM   \n",
      "2                   Unit 0065 Box 5052\\nDPO AP 27450  94 vE       PM   \n",
      "3              7780 Julia Fords\\nNew Stacy, WA 45798  36 vm       PM   \n",
      "4  23012 Munoz Drive Suite 337\\nNew Cynthia, TX 5...  20 IE       AM   \n",
      "\n",
      "                                        Browser Info  \\\n",
      "0  Opera/9.56.(X11; Linux x86_64; sl-SI) Presto/2...   \n",
      "1  Opera/8.93.(Windows 98; Win 9x 4.90; en-US) Pr...   \n",
      "2  Mozilla/5.0 (compatible; MSIE 9.0; Windows NT ...   \n",
      "3  Mozilla/5.0 (Macintosh; Intel Mac OS X 10_8_0 ...   \n",
      "4  Opera/9.58.(X11; Linux x86_64; it-IT) Presto/2...   \n",
      "\n",
      "                           Company       Credit Card CC Exp Date  \\\n",
      "0                  Martinez-Herman  6011929061123406       02/20   \n",
      "1  Fletcher, Richards and Whitaker  3337758169645356       11/18   \n",
      "2       Simpson, Williams and Pham      675957666125       08/19   \n",
      "3  Williams, Marshall and Buchanan  6011578504430710       02/24   \n",
      "4        Brown, Watson and Andrews  6011456623207998       10/25   \n",
      "\n",
      "   CC Security Code                  CC Provider  \\\n",
      "0               900                 JCB 16 digit   \n",
      "1               561                   Mastercard   \n",
      "2               699                 JCB 16 digit   \n",
      "3               384                     Discover   \n",
      "4               678  Diners Club / Carte Blanche   \n",
      "\n",
      "                            Email                                     Job  \\\n",
      "0               pdunlap@yahoo.com  Scientist, product/process development   \n",
      "1              anthony41@reed.com                       Drilling engineer   \n",
      "2  amymiller@morales-harrison.com                Customer service manager   \n",
      "3     brent16@olson-robinson.info                       Drilling engineer   \n",
      "4     christopherwright@gmail.com                             Fine artist   \n",
      "\n",
      "        IP Address Language  Purchase Price  Total_Price  \n",
      "0  149.146.147.205       el           98.14        98.14  \n",
      "1     15.160.41.51       fr           70.73        70.73  \n",
      "2   132.207.160.22       de            0.95         0.95  \n",
      "3     30.250.74.19       es           78.04        78.04  \n",
      "4     24.140.33.94       es           77.82        77.82  \n"
     ]
    },
    {
     "data": {
      "text/plain": [
       "00:58:45.772 | \u001B[36mINFO\u001B[0m    | Task run 'transform_data-0' - Finished in state \u001B[32mCompleted\u001B[0m()\n"
      ],
      "text/html": [
       "<pre style=\"white-space:pre;overflow-x:auto;line-height:normal;font-family:Menlo,'DejaVu Sans Mono',consolas,'Courier New',monospace\">00:58:45.772 | <span style=\"color: #008080; text-decoration-color: #008080\">INFO</span>    | Task run 'transform_data-0' - Finished in state <span style=\"color: #008000; text-decoration-color: #008000\">Completed</span>()\n",
       "</pre>\n"
      ]
     },
     "metadata": {},
     "output_type": "display_data"
    },
    {
     "data": {
      "text/plain": [
       "00:58:45.804 | \u001B[36mINFO\u001B[0m    | Flow run\u001B[35m 'watchful-fox'\u001B[0m - Created task run 'prepare_for_modeling-0' for task 'prepare_for_modeling'\n"
      ],
      "text/html": [
       "<pre style=\"white-space:pre;overflow-x:auto;line-height:normal;font-family:Menlo,'DejaVu Sans Mono',consolas,'Courier New',monospace\">00:58:45.804 | <span style=\"color: #008080; text-decoration-color: #008080\">INFO</span>    | Flow run<span style=\"color: #800080; text-decoration-color: #800080\"> 'watchful-fox'</span> - Created task run 'prepare_for_modeling-0' for task 'prepare_for_modeling'\n",
       "</pre>\n"
      ]
     },
     "metadata": {},
     "output_type": "display_data"
    },
    {
     "data": {
      "text/plain": [
       "00:58:45.819 | \u001B[36mINFO\u001B[0m    | Flow run\u001B[35m 'watchful-fox'\u001B[0m - Executing 'prepare_for_modeling-0' immediately...\n"
      ],
      "text/html": [
       "<pre style=\"white-space:pre;overflow-x:auto;line-height:normal;font-family:Menlo,'DejaVu Sans Mono',consolas,'Courier New',monospace\">00:58:45.819 | <span style=\"color: #008080; text-decoration-color: #008080\">INFO</span>    | Flow run<span style=\"color: #800080; text-decoration-color: #800080\"> 'watchful-fox'</span> - Executing 'prepare_for_modeling-0' immediately...\n",
       "</pre>\n"
      ]
     },
     "metadata": {},
     "output_type": "display_data"
    },
    {
     "name": "stdout",
     "output_type": "stream",
     "text": [
      "Dados preparados para modelagem:\n",
      "      Job_encoded  Company_encoded  Language_encoded\n",
      "9254          138             4558                 0\n",
      "1561          545             3668                 0\n",
      "1670          216             7523                 4\n",
      "6087          338             6067                 1\n",
      "6669          465              613                 0\n"
     ]
    },
    {
     "data": {
      "text/plain": [
       "00:58:46.136 | \u001B[36mINFO\u001B[0m    | Task run 'prepare_for_modeling-0' - Finished in state \u001B[32mCompleted\u001B[0m()\n"
      ],
      "text/html": [
       "<pre style=\"white-space:pre;overflow-x:auto;line-height:normal;font-family:Menlo,'DejaVu Sans Mono',consolas,'Courier New',monospace\">00:58:46.136 | <span style=\"color: #008080; text-decoration-color: #008080\">INFO</span>    | Task run 'prepare_for_modeling-0' - Finished in state <span style=\"color: #008000; text-decoration-color: #008000\">Completed</span>()\n",
       "</pre>\n"
      ]
     },
     "metadata": {},
     "output_type": "display_data"
    },
    {
     "data": {
      "text/plain": [
       "00:58:46.208 | \u001B[36mINFO\u001B[0m    | Flow run\u001B[35m 'watchful-fox'\u001B[0m - Created task run 'train_model-0' for task 'train_model'\n"
      ],
      "text/html": [
       "<pre style=\"white-space:pre;overflow-x:auto;line-height:normal;font-family:Menlo,'DejaVu Sans Mono',consolas,'Courier New',monospace\">00:58:46.208 | <span style=\"color: #008080; text-decoration-color: #008080\">INFO</span>    | Flow run<span style=\"color: #800080; text-decoration-color: #800080\"> 'watchful-fox'</span> - Created task run 'train_model-0' for task 'train_model'\n",
       "</pre>\n"
      ]
     },
     "metadata": {},
     "output_type": "display_data"
    },
    {
     "data": {
      "text/plain": [
       "00:58:46.215 | \u001B[36mINFO\u001B[0m    | Flow run\u001B[35m 'watchful-fox'\u001B[0m - Executing 'train_model-0' immediately...\n"
      ],
      "text/html": [
       "<pre style=\"white-space:pre;overflow-x:auto;line-height:normal;font-family:Menlo,'DejaVu Sans Mono',consolas,'Courier New',monospace\">00:58:46.215 | <span style=\"color: #008080; text-decoration-color: #008080\">INFO</span>    | Flow run<span style=\"color: #800080; text-decoration-color: #800080\"> 'watchful-fox'</span> - Executing 'train_model-0' immediately...\n",
       "</pre>\n"
      ]
     },
     "metadata": {},
     "output_type": "display_data"
    },
    {
     "name": "stdout",
     "output_type": "stream",
     "text": [
      "Modelo treinado.\n"
     ]
    },
    {
     "data": {
      "text/plain": [
       "00:58:46.645 | \u001B[36mINFO\u001B[0m    | Task run 'train_model-0' - Finished in state \u001B[32mCompleted\u001B[0m()\n"
      ],
      "text/html": [
       "<pre style=\"white-space:pre;overflow-x:auto;line-height:normal;font-family:Menlo,'DejaVu Sans Mono',consolas,'Courier New',monospace\">00:58:46.645 | <span style=\"color: #008080; text-decoration-color: #008080\">INFO</span>    | Task run 'train_model-0' - Finished in state <span style=\"color: #008000; text-decoration-color: #008000\">Completed</span>()\n",
       "</pre>\n"
      ]
     },
     "metadata": {},
     "output_type": "display_data"
    },
    {
     "data": {
      "text/plain": [
       "00:58:46.698 | \u001B[36mINFO\u001B[0m    | Flow run\u001B[35m 'watchful-fox'\u001B[0m - Created task run 'evaluate_model-0' for task 'evaluate_model'\n"
      ],
      "text/html": [
       "<pre style=\"white-space:pre;overflow-x:auto;line-height:normal;font-family:Menlo,'DejaVu Sans Mono',consolas,'Courier New',monospace\">00:58:46.698 | <span style=\"color: #008080; text-decoration-color: #008080\">INFO</span>    | Flow run<span style=\"color: #800080; text-decoration-color: #800080\"> 'watchful-fox'</span> - Created task run 'evaluate_model-0' for task 'evaluate_model'\n",
       "</pre>\n"
      ]
     },
     "metadata": {},
     "output_type": "display_data"
    },
    {
     "data": {
      "text/plain": [
       "00:58:46.701 | \u001B[36mINFO\u001B[0m    | Flow run\u001B[35m 'watchful-fox'\u001B[0m - Executing 'evaluate_model-0' immediately...\n"
      ],
      "text/html": [
       "<pre style=\"white-space:pre;overflow-x:auto;line-height:normal;font-family:Menlo,'DejaVu Sans Mono',consolas,'Courier New',monospace\">00:58:46.701 | <span style=\"color: #008080; text-decoration-color: #008080\">INFO</span>    | Flow run<span style=\"color: #800080; text-decoration-color: #800080\"> 'watchful-fox'</span> - Executing 'evaluate_model-0' immediately...\n",
       "</pre>\n"
      ]
     },
     "metadata": {},
     "output_type": "display_data"
    },
    {
     "name": "stdout",
     "output_type": "stream",
     "text": [
      "Acurácia do modelo: -0.0011237257048015703\n"
     ]
    },
    {
     "data": {
      "text/plain": [
       "00:58:46.908 | \u001B[36mINFO\u001B[0m    | Task run 'evaluate_model-0' - Finished in state \u001B[32mCompleted\u001B[0m()\n"
      ],
      "text/html": [
       "<pre style=\"white-space:pre;overflow-x:auto;line-height:normal;font-family:Menlo,'DejaVu Sans Mono',consolas,'Courier New',monospace\">00:58:46.908 | <span style=\"color: #008080; text-decoration-color: #008080\">INFO</span>    | Task run 'evaluate_model-0' - Finished in state <span style=\"color: #008000; text-decoration-color: #008000\">Completed</span>()\n",
       "</pre>\n"
      ]
     },
     "metadata": {},
     "output_type": "display_data"
    },
    {
     "data": {
      "text/plain": [
       "00:58:47.104 | \u001B[36mINFO\u001B[0m    | Flow run\u001B[35m 'watchful-fox'\u001B[0m - Created task run 'load_data-0' for task 'load_data'\n"
      ],
      "text/html": [
       "<pre style=\"white-space:pre;overflow-x:auto;line-height:normal;font-family:Menlo,'DejaVu Sans Mono',consolas,'Courier New',monospace\">00:58:47.104 | <span style=\"color: #008080; text-decoration-color: #008080\">INFO</span>    | Flow run<span style=\"color: #800080; text-decoration-color: #800080\"> 'watchful-fox'</span> - Created task run 'load_data-0' for task 'load_data'\n",
       "</pre>\n"
      ]
     },
     "metadata": {},
     "output_type": "display_data"
    },
    {
     "data": {
      "text/plain": [
       "00:58:47.108 | \u001B[36mINFO\u001B[0m    | Flow run\u001B[35m 'watchful-fox'\u001B[0m - Executing 'load_data-0' immediately...\n"
      ],
      "text/html": [
       "<pre style=\"white-space:pre;overflow-x:auto;line-height:normal;font-family:Menlo,'DejaVu Sans Mono',consolas,'Courier New',monospace\">00:58:47.108 | <span style=\"color: #008080; text-decoration-color: #008080\">INFO</span>    | Flow run<span style=\"color: #800080; text-decoration-color: #800080\"> 'watchful-fox'</span> - Executing 'load_data-0' immediately...\n",
       "</pre>\n"
      ]
     },
     "metadata": {},
     "output_type": "display_data"
    },
    {
     "name": "stdout",
     "output_type": "stream",
     "text": [
      "Dados carregados no banco de dados.\n"
     ]
    },
    {
     "data": {
      "text/plain": [
       "00:58:50.108 | \u001B[36mINFO\u001B[0m    | Task run 'load_data-0' - Finished in state \u001B[32mCompleted\u001B[0m()\n"
      ],
      "text/html": [
       "<pre style=\"white-space:pre;overflow-x:auto;line-height:normal;font-family:Menlo,'DejaVu Sans Mono',consolas,'Courier New',monospace\">00:58:50.108 | <span style=\"color: #008080; text-decoration-color: #008080\">INFO</span>    | Task run 'load_data-0' - Finished in state <span style=\"color: #008000; text-decoration-color: #008000\">Completed</span>()\n",
       "</pre>\n"
      ]
     },
     "metadata": {},
     "output_type": "display_data"
    },
    {
     "data": {
      "text/plain": [
       "00:58:50.237 | \u001B[36mINFO\u001B[0m    | Flow run\u001B[35m 'watchful-fox'\u001B[0m - Finished in state \u001B[32mCompleted\u001B[0m('All states completed.')\n"
      ],
      "text/html": [
       "<pre style=\"white-space:pre;overflow-x:auto;line-height:normal;font-family:Menlo,'DejaVu Sans Mono',consolas,'Courier New',monospace\">00:58:50.237 | <span style=\"color: #008080; text-decoration-color: #008080\">INFO</span>    | Flow run<span style=\"color: #800080; text-decoration-color: #800080\"> 'watchful-fox'</span> - Finished in state <span style=\"color: #008000; text-decoration-color: #008000\">Completed</span>('All states completed.')\n",
       "</pre>\n"
      ]
     },
     "metadata": {},
     "output_type": "display_data"
    },
    {
     "data": {
      "text/plain": [
       "[Completed(message=None, type=COMPLETED, result=UnpersistedResult(type='unpersisted', artifact_type='result', artifact_description='Unpersisted result of type `DataFrame`')),\n",
       " Completed(message=None, type=COMPLETED, result=UnpersistedResult(type='unpersisted', artifact_type='result', artifact_description='Unpersisted result of type `DataFrame`')),\n",
       " Completed(message=None, type=COMPLETED, result=UnpersistedResult(type='unpersisted', artifact_type='result', artifact_description='Unpersisted result of type `tuple`')),\n",
       " Completed(message=None, type=COMPLETED, result=UnpersistedResult(type='unpersisted', artifact_type='result', artifact_description='Unpersisted result of type `LinearRegression`')),\n",
       " Completed(message=None, type=COMPLETED, result=UnpersistedResult(type='unpersisted', artifact_type='result', artifact_description='Unpersisted result of type `float`')),\n",
       " Completed(message=None, type=COMPLETED, result=UnpersistedResult(type='unpersisted', artifact_type='result', artifact_description='Unpersisted result of type `NoneType`'))]"
      ]
     },
     "execution_count": 42,
     "metadata": {},
     "output_type": "execute_result"
    }
   ],
   "execution_count": 42
  },
  {
   "metadata": {},
   "cell_type": "code",
   "outputs": [],
   "execution_count": null,
   "source": "",
   "id": "bdf4898591222b8f"
  }
 ],
 "metadata": {
  "kernelspec": {
   "display_name": "Python 3",
   "language": "python",
   "name": "python3"
  },
  "language_info": {
   "codemirror_mode": {
    "name": "ipython",
    "version": 2
   },
   "file_extension": ".py",
   "mimetype": "text/x-python",
   "name": "python",
   "nbconvert_exporter": "python",
   "pygments_lexer": "ipython2",
   "version": "2.7.6"
  }
 },
 "nbformat": 4,
 "nbformat_minor": 5
}
